{
 "cells": [
  {
   "cell_type": "code",
   "execution_count": null,
   "id": "36fbd8aa-79aa-4cb0-a39f-e1d54e092d2f",
   "metadata": {},
   "outputs": [],
   "source": [
    "import pandas as pd\n",
    "from sklearn.model_selection import train_test_split  #학습,테스트용 나누는 라이브러리\n",
    "from sklearn.preprocessing import LabelEncoder    #문자열 -> 숫자로 변환 바꿔야지 학습할수 있다고함(GPT가)\n",
    "from sklearn.tree import DecisionTreeClassifier   #학습모델 라이브러리 DecisionTreeClassofoer() 써서 모델 만들고 \n",
    "                                                  # fit()으로 학습\n",
    "\n",
    "file_path = \"C:\\Users\\chelego\\Desktop\\iris.csv\"\n",
    "df = pd.read_csv(file_path) #df에 읽어온 파일 집어넣기\n",
    "\n",
    "#iloc이 뭔지 몰라서\n",
    "#iloc은 표처럼 행렬형태의 데이터에서 행,열을 선택하는 함수? 같은거\n",
    "#반대로 선형성이 없는 데이터에서는 못씀\n",
    "X = df.iloc[:, :-1] # [행, 열]\n",
    "Y = df.iloc[:, -1]\n",
    "\n",
    "# 문자열 숫자변환 라이브러리사용\n",
    "le = LabelEncoder() #\n",
    "Y = le.fit_transform(Y)\n",
    "\n",
    "#학습, 테스트 데이터 분리\n",
    "X_train, X_test, Y_train, Y_test = train_test_split(X, Y, test_size=0.3, random_state=42)\n",
    "\n",
    "dt_model = DecisionTreeClassifier()\n",
    "dt_model.fit(X_train, Y_train)  #학습\n",
    "\n",
    "dt_preds = dt_model.predict(X_test)\n",
    "\n",
    "print(\"class:\" dt_preds)\n"
   ]
  }
 ],
 "metadata": {
  "kernelspec": {
   "display_name": "Python [conda env:base] *",
   "language": "python",
   "name": "conda-base-py"
  },
  "language_info": {
   "codemirror_mode": {
    "name": "ipython",
    "version": 3
   },
   "file_extension": ".py",
   "mimetype": "text/x-python",
   "name": "python",
   "nbconvert_exporter": "python",
   "pygments_lexer": "ipython3",
   "version": "3.12.7"
  }
 },
 "nbformat": 4,
 "nbformat_minor": 5
}
