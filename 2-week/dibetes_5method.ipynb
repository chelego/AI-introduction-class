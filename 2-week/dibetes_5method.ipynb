{
 "cells": [
  {
   "cell_type": "code",
   "execution_count": 5,
   "id": "3c0f3b2c-2ffd-4244-b0c6-d45e8fbfe793",
   "metadata": {},
   "outputs": [
    {
     "name": "stdout",
     "output_type": "stream",
     "text": [
      "   Pregnancies  Glucose  BloodPressure  Insulin   BMI  \\\n",
      "0            6      148             72        0  33.6   \n",
      "1            1       85             66        0  26.6   \n",
      "2            8      183             64        0  23.3   \n",
      "3            1       89             66       94  28.1   \n",
      "4            0      137             40      168  43.1   \n",
      "\n",
      "   DiabetesPedigreeFunction  Age  Outcome  \n",
      "0                     0.627   50        1  \n",
      "1                     0.351   31        0  \n",
      "2                     0.672   32        1  \n",
      "3                     0.167   21        0  \n",
      "4                     2.288   33        1  \n"
     ]
    }
   ],
   "source": [
    "import pandas as pd\n",
    "import requests\n",
    "from io import StringIO\n",
    "from sklearn.model_selection import train_test_split\n",
    "#from sklearn.preprocessing import LabelEncoder\n",
    "from sklearn.preprocessing import StandardScaler\n",
    "from sklearn.neighbors import KNeighborsClassifier\n",
    "from sklearn.metrics import accuracy_score, classification_report\n",
    "from sklearn.ensemble import RandomForestClassifier\n",
    "from sklearn.tree import DecisionTreeClassifier\n",
    "from sklearn.linear_model import LogisticRegression\n",
    "from sklearn.svm import SVC\n",
    "\n",
    "url = \"https://raw.githubusercontent.com/MyungKyuYi/AI-class/main/diabetes.csv\"\n",
    "\n",
    "response = requests.get(url)\n",
    "\n",
    "data = StringIO(response.text)\n",
    "df = pd.read_csv(data)\n",
    "\n",
    "#내 생각에 skinThickness는 결과값에 영향이 없을것이라고 판단.\n",
    "df = df.drop(columns=[\"SkinThickness\"])\n",
    "\n",
    "print(df.head())"
   ]
  },
  {
   "cell_type": "code",
   "execution_count": 7,
   "id": "3e259b68-3cab-4b3d-afb8-3719ec2d5773",
   "metadata": {},
   "outputs": [
    {
     "data": {
      "text/plain": [
       "Pregnancies                 0\n",
       "Glucose                     0\n",
       "BloodPressure               0\n",
       "Insulin                     0\n",
       "BMI                         0\n",
       "DiabetesPedigreeFunction    0\n",
       "Age                         0\n",
       "Outcome                     0\n",
       "dtype: int64"
      ]
     },
     "execution_count": 7,
     "metadata": {},
     "output_type": "execute_result"
    }
   ],
   "source": [
    "df.isnull().sum() #결측치 없음."
   ]
  },
  {
   "cell_type": "code",
   "execution_count": 9,
   "id": "8e05b6f3-f237-4c6d-a367-3051c5750103",
   "metadata": {},
   "outputs": [
    {
     "data": {
      "text/plain": [
       "Index(['Pregnancies', 'Glucose', 'BloodPressure', 'Insulin', 'BMI',\n",
       "       'DiabetesPedigreeFunction', 'Age', 'Outcome'],\n",
       "      dtype='object')"
      ]
     },
     "execution_count": 9,
     "metadata": {},
     "output_type": "execute_result"
    }
   ],
   "source": [
    "df.columns"
   ]
  },
  {
   "cell_type": "code",
   "execution_count": 17,
   "id": "a3be2851-1958-4ce7-918e-de09682c30f6",
   "metadata": {},
   "outputs": [
    {
     "name": "stdout",
     "output_type": "stream",
     "text": [
      "confusion_matrix:\n",
      " [[117  34]\n",
      " [ 29  51]]\n",
      "KNN 정확도: 0.7273\n",
      "\n",
      "confusion_matrix:\n",
      " [[124  27]\n",
      " [ 29  51]]\n",
      "RF 정확도: 0.7576\n",
      "\n",
      "confusion_matrix:\n",
      " [[107  44]\n",
      " [ 26  54]]\n",
      "DT 정확도: 0.6970\n",
      "\n",
      "confusion_matrix:\n",
      " [[120  31]\n",
      " [ 30  50]]\n",
      "RL 정확도: 0.7359\n",
      "\n",
      "confusion_matrix:\n",
      " [[131  20]\n",
      " [ 40  40]]\n",
      "SVM 정확도: 0.7403\n",
      "\n"
     ]
    }
   ],
   "source": [
    "X = df.drop(columns=[\"Outcome\"])\n",
    "Y = df[\"Outcome\"]\n",
    "\n",
    "X_train, X_test, Y_train, Y_test = train_test_split(X, Y, test_size=0.3, random_state=42)\n",
    "\n",
    "models = {\n",
    "    \"KNN\": KNeighborsClassifier(n_neighbors=5), \n",
    "    \"RF\": RandomForestClassifier(n_estimators=100, random_state=42),\n",
    "    \"DT\": DecisionTreeClassifier(random_state=42), \n",
    "    \"RL\": LogisticRegression(max_iter=1000), \n",
    "    \"SVM\": SVC()\n",
    "}\n",
    "from sklearn.metrics import confusion_matrix\n",
    "\n",
    "for name, model in models.items():\n",
    "    if name in [\"KNN\", \"SVM\"]:\n",
    "        model.fit(X_train, Y_train)   \n",
    "        Y_pred = model.predict(X_test)\n",
    "    else:\n",
    "        model.fit(X_train, Y_train)\n",
    "        Y_pred = model.predict(X_test)\n",
    "\n",
    "    accuracy = accuracy_score(Y_test, Y_pred)\n",
    "    cm = confusion_matrix(Y_test, Y_pred)\n",
    "    print(\"confusion_matrix:\\n\", cm)\n",
    "    print(f\"{name} 정확도: {accuracy:.4f}\\n\")"
   ]
  }
 ],
 "metadata": {
  "kernelspec": {
   "display_name": "Python [conda env:base] *",
   "language": "python",
   "name": "conda-base-py"
  },
  "language_info": {
   "codemirror_mode": {
    "name": "ipython",
    "version": 3
   },
   "file_extension": ".py",
   "mimetype": "text/x-python",
   "name": "python",
   "nbconvert_exporter": "python",
   "pygments_lexer": "ipython3",
   "version": "3.12.7"
  }
 },
 "nbformat": 4,
 "nbformat_minor": 5
}
