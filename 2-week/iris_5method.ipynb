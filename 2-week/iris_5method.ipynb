{
 "cells": [
  {
   "cell_type": "code",
   "execution_count": 18,
   "id": "0cebaccc-8b77-47f2-ba9b-68322d8d5e24",
   "metadata": {},
   "outputs": [
    {
     "name": "stdout",
     "output_type": "stream",
     "text": [
      "KNN 정확도: 1.0000\n",
      "RF 정확도: 1.0000\n",
      "DT 정확도: 1.0000\n",
      "RL 정확도: 1.0000\n",
      "SVM 정확도: 1.0000\n"
     ]
    }
   ],
   "source": [
    "import pandas as pd\n",
    "import requests\n",
    "from io import StringIO\n",
    "from sklearn.model_selection import train_test_split\n",
    "from sklearn.preprocessing import StandardScaler\n",
    "from sklearn.preprocessing import LabelEncoder\n",
    "from sklearn.neighbors import KNeighborsClassifier\n",
    "from sklearn.metrics import accuracy_score, classification_report\n",
    "from sklearn.ensemble import RandomForestClassifier\n",
    "from sklearn.tree import DecisionTreeClassifier\n",
    "from sklearn.linear_model import LogisticRegression\n",
    "from sklearn.svm import SVC\n",
    "\n",
    "url = \"https://raw.githubusercontent.com/chelego/AI-introduction-class/main/2-week/iris.csv\"\n",
    "\n",
    "response = requests.get(url)\n",
    "\n",
    "data = StringIO(response.text)\n",
    "df = pd.read_csv(data)\n",
    "\n",
    "X = df.iloc[:,:-1]\n",
    "Y = df.iloc[:,-1]\n",
    "\n",
    "X_train, X_test, Y_train, Y_test = train_test_split(X, Y, test_size=0.3, random_state=42)\n",
    "\n",
    "scaler = StandardScaler() \n",
    "X_train_scaled = scaler.fit_transform(X_train)\n",
    "X_test_scaled = scaler.transform(X_test)\n",
    "\n",
    "Y_train = Y_train.values.ravel()\n",
    "Y_test = Y_test.values.ravel()\n",
    "\n",
    "models = {\n",
    "    \"KNN\": KNeighborsClassifier(n_neighbors=5), \n",
    "    \"RF\": RandomForestClassifier(n_estimators=100, random_state=42),\n",
    "    \"DT\": DecisionTreeClassifier(random_state=42), \n",
    "    \"RL\": LogisticRegression(max_iter=1000), \n",
    "    \"SVM\": SVC()\n",
    "}\n",
    "\n",
    "for name, model in models.items():\n",
    "    if name in [\"KNN\", \"SVM\"]:\n",
    "        model.fit(X_train_scaled, Y_train)   \n",
    "        Y_pred = model.predict(X_test_scaled)\n",
    "    else:\n",
    "        model.fit(X_train, Y_train) #나머지들 실행\n",
    "        Y_pred = model.predict(X_test)\n",
    "    accuracy = accuracy_score(Y_test, Y_pred)\n",
    "    print(f\"{name} 정확도: {accuracy:.4f}\")"
   ]
  }
 ],
 "metadata": {
  "kernelspec": {
   "display_name": "Python [conda env:base] *",
   "language": "python",
   "name": "conda-base-py"
  },
  "language_info": {
   "codemirror_mode": {
    "name": "ipython",
    "version": 3
   },
   "file_extension": ".py",
   "mimetype": "text/x-python",
   "name": "python",
   "nbconvert_exporter": "python",
   "pygments_lexer": "ipython3",
   "version": "3.12.7"
  }
 },
 "nbformat": 4,
 "nbformat_minor": 5
}
