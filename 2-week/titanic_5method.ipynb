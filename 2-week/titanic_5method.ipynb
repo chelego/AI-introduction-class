{
 "cells": [
  {
   "cell_type": "code",
   "execution_count": 99,
   "id": "19b3a347-df63-47a3-95e6-4b4c3db5385e",
   "metadata": {},
   "outputs": [
    {
     "name": "stdout",
     "output_type": "stream",
     "text": [
      "Index(['PassengerId', 'Survived', 'Pclass', 'Name', 'Sex', 'Age', 'SibSp',\n",
      "       'Parch', 'Ticket', 'Fare', 'Cabin', 'Embarked'],\n",
      "      dtype='object')\n",
      "Index(['PassengerId', 'Survived', 'Pclass', 'Sex', 'Age', 'SibSp', 'Parch',\n",
      "       'Fare'],\n",
      "      dtype='object')\n"
     ]
    }
   ],
   "source": [
    "import pandas as pd\n",
    "import requests\n",
    "from io import StringIO\n",
    "from sklearn.model_selection import train_test_split\n",
    "from sklearn.preprocessing import StandardScaler\n",
    "from sklearn.preprocessing import LabelEncoder\n",
    "from sklearn.neighbors import KNeighborsClassifier\n",
    "from sklearn.metrics import accuracy_score, classification_report\n",
    "from sklearn.ensemble import RandomForestClassifier\n",
    "from sklearn.tree import DecisionTreeClassifier\n",
    "from sklearn.linear_model import LogisticRegression\n",
    "from sklearn.svm import SVC\n",
    "\n",
    "url = \"https://raw.githubusercontent.com/MyungKyuYi/AI-class/main/titanic.csv\"\n",
    "\n",
    "response = requests.get(url)\n",
    "\n",
    "data = StringIO(response.text)\n",
    "df = pd.read_csv(data)\n",
    "\n",
    "df.columns\n",
    "# print(f\"생존자 수: {num_survived}\")\n",
    "\n",
    "df.head()\n",
    "print(df.columns)\n",
    "df = df.drop(columns=[\"Name\",\"Cabin\",\"Embarked\",\"Ticket\"])\n",
    "print(df.columns)"
   ]
  },
  {
   "cell_type": "code",
   "execution_count": 101,
   "id": "c94f80bc-d847-405a-8e31-453cc511f096",
   "metadata": {},
   "outputs": [
    {
     "data": {
      "text/plain": [
       "PassengerId      0\n",
       "Survived         0\n",
       "Pclass           0\n",
       "Sex              0\n",
       "Age            177\n",
       "SibSp            0\n",
       "Parch            0\n",
       "Fare             0\n",
       "dtype: int64"
      ]
     },
     "execution_count": 101,
     "metadata": {},
     "output_type": "execute_result"
    }
   ],
   "source": [
    "df.isnull().sum() #결측치 파악"
   ]
  },
  {
   "cell_type": "code",
   "execution_count": 103,
   "id": "364dcda3-a1f2-47c8-a2b6-e38e9e83e678",
   "metadata": {},
   "outputs": [],
   "source": [
    "#Age의 결측치가 177개 발견되었으므로 결측치를 평균값으로 채워넣는다.\n",
    "df[\"Age\"] = df[\"Age\"].fillna(df[\"Age\"].mean()) \n",
    "\n",
    "#sex 란 데이터를 숫자로 변환\n",
    "le = LabelEncoder()\n",
    "df[\"Sex\"] = le.fit_transform(df[\"Sex\"]) #male -> 1로 female -> 0으로 바꾸기"
   ]
  },
  {
   "cell_type": "code",
   "execution_count": 109,
   "id": "1b7086b9-3194-479c-bf91-d8252b31a71f",
   "metadata": {},
   "outputs": [
    {
     "name": "stdout",
     "output_type": "stream",
     "text": [
      "KNN 정확도: 0.7985\n",
      "RF 정확도: 0.8097\n",
      "DT 정확도: 0.7575\n",
      "RL 정확도: 0.8097\n",
      "SVM 정확도: 0.8284\n"
     ]
    }
   ],
   "source": [
    "#생존여부가 예측해야될 값이므로 X에는 survived 제외 Y에만 survived 넣기\n",
    "X = df.drop(columns=[\"Survived\"])\n",
    "Y = df[\"Survived\"]\n",
    "\n",
    "X_train, X_test, Y_train, Y_test = train_test_split(X, Y, test_size=0.3, random_state=42)\n",
    "\n",
    "scaler = StandardScaler() #정규화 (아직 잘 모르겠음 왜 정규화 하는지, 후에 더 알아보도록 한다.)\n",
    "X_train_scaled = scaler.fit_transform(X_train)\n",
    "X_test_scaled = scaler.transform(X_test)\n",
    "\n",
    "#여기서도 문제가 있었음 Y데이터 들이 오류가 나서 GPT물어보니 Numpy 배열로 변환해야한다함 왜 인지는 모르겠음, 이것도 나중에 알아볼 예정\n",
    "Y_train = Y_train.values.ravel()\n",
    "Y_test = Y_test.values.ravel()\n",
    "\n",
    "models = {\n",
    "    \"KNN\": KNeighborsClassifier(n_neighbors=5), \n",
    "    \"RF\": RandomForestClassifier(n_estimators=100, random_state=42),\n",
    "    \"DT\": DecisionTreeClassifier(random_state=42), \n",
    "    \"RL\": LogisticRegression(max_iter=1000), \n",
    "    \"SVM\": SVC()\n",
    "}\n",
    "\n",
    "for name, model in models.items():\n",
    "    if name in [\"KNN\", \"SVM\"]: #거리기반 알고리즘이라서 따로 실행해줘야함.\n",
    "        \n",
    "        \"\"\" 여기서 계속 문제가 있었음 원인을 몰라 계속 찾아본 결과 결측치가 687개나 되는 cabin은 드랍시켰지만 \n",
    "        Embarked에 Nan이라는 데이터가 들어있는걸 보지못하고 그대로 진행하여 fit 학습 과정에서 문자열때문에 오류가 났던것을 발견함. \n",
    "        Embarked를 드롭하면서 문제 해결\"\"\"\n",
    "        \n",
    "        model.fit(X_train_scaled, Y_train)   \n",
    "        Y_pred = model.predict(X_test_scaled)\n",
    "    else:\n",
    "        model.fit(X_train, Y_train) #나머지들 실행\n",
    "        Y_pred = model.predict(X_test)\n",
    "\n",
    "    # 정확도 계산\n",
    "    accuracy = accuracy_score(Y_test, Y_pred)\n",
    "    print(f\"{name} 정확도: {accuracy:.4f}\")"
   ]
  },
  {
   "cell_type": "code",
   "execution_count": null,
   "id": "303b990e-53d4-4b15-8997-5f6f87609aeb",
   "metadata": {},
   "outputs": [],
   "source": []
  }
 ],
 "metadata": {
  "kernelspec": {
   "display_name": "Python [conda env:base] *",
   "language": "python",
   "name": "conda-base-py"
  },
  "language_info": {
   "codemirror_mode": {
    "name": "ipython",
    "version": 3
   },
   "file_extension": ".py",
   "mimetype": "text/x-python",
   "name": "python",
   "nbconvert_exporter": "python",
   "pygments_lexer": "ipython3",
   "version": "3.12.7"
  }
 },
 "nbformat": 4,
 "nbformat_minor": 5
}
