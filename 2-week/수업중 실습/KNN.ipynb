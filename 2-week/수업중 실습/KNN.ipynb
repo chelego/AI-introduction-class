{
 "cells": [
  {
   "cell_type": "code",
   "execution_count": 18,
   "id": "93979d81-7388-485a-9b9e-6f18a697a28b",
   "metadata": {},
   "outputs": [
    {
     "name": "stdout",
     "output_type": "stream",
     "text": [
      "훈련 데이터 정확도: 0.9524\n",
      "테스트 데이터 정확도: 1.0000\n"
     ]
    }
   ],
   "source": [
    "import pandas as pd\n",
    "from sklearn.model_selection import train_test_split\n",
    "from sklearn.preprocessing import StandardScaler\n",
    "from sklearn.preprocessing import LabelEncoder\n",
    "from sklearn.neighbors import KNeighborsClassifier\n",
    "from sklearn.metrics import accuracy_score, classification_report\n",
    "\n",
    "file_p = \"C:/Users/chelego/Desktop/iris.csv\"\n",
    "df = pd.read_csv(file_p)\n",
    "\n",
    "X = df.iloc[:, :-1]\n",
    "Y = df.iloc[:, -1]\n",
    "\n",
    "X_train, X_test, Y_train, Y_test = train_test_split(X, Y , test_size=0.3, random_state=42)\n",
    "\n",
    "#왜인지 모르겠지만 그냥 하면 안됨\n",
    "#스케일업을 해서 돌려야지 돌아감\n",
    "scaler = StandardScaler()\n",
    "X_train_scaled = scaler.fit_transform(X_train)\n",
    "X_test_scaled = scaler.transform(X_test)\n",
    "\n",
    "knn = KNeighborsClassifier(n_neighbors=5)\n",
    "knn.fit(X_train_scaled, Y_train)\n",
    "\n",
    "Y_train_pred = knn.predict(X_train_scaled)\n",
    "Y_test_pred = knn.predict(X_test_scaled)\n",
    "\n",
    "train_accuracy = accuracy_score(Y_train, Y_train_pred)\n",
    "test_accuracy = accuracy_score(Y_test, Y_test_pred)\n",
    "\n",
    "print(f\"훈련 데이터 정확도: {train_accuracy:.4f}\")\n",
    "print(f\"테스트 데이터 정확도: {test_accuracy:.4f}\")\n"
   ]
  },
  {
   "cell_type": "code",
   "execution_count": null,
   "id": "b3a46ab6-30c6-44e2-bdcf-633781c6baf2",
   "metadata": {},
   "outputs": [],
   "source": []
  }
 ],
 "metadata": {
  "kernelspec": {
   "display_name": "Python [conda env:base] *",
   "language": "python",
   "name": "conda-base-py"
  },
  "language_info": {
   "codemirror_mode": {
    "name": "ipython",
    "version": 3
   },
   "file_extension": ".py",
   "mimetype": "text/x-python",
   "name": "python",
   "nbconvert_exporter": "python",
   "pygments_lexer": "ipython3",
   "version": "3.12.7"
  }
 },
 "nbformat": 4,
 "nbformat_minor": 5
}
